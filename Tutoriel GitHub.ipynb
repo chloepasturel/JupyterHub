{
 "cells": [
  {
   "cell_type": "markdown",
   "metadata": {},
   "source": [
    "# Présentation\n",
    "\n",
    "Git a deux utilités principales :\n",
    "\n",
    "- *Suivre l’évolution d’un code source* : Il retient les modifications effectuées sur chaque fichier et est capable de revenir en arrière en cas de problème.\n",
    "\n",
    "- *Travailler à plusieurs* : Si deux personnes modifient un même fichier en même temps, leurs modifications peuvent être fusionnées sans perte d’information. Git permet de gérer ce genre de problèmes et bien d'autres!"
   ]
  },
  {
   "cell_type": "markdown",
   "metadata": {},
   "source": [
    "# Installation et Configuration\n",
    "\n",
    "Nous allons dans ce tutoriel nous concentrer sur l'interaction avec la plateforme [GitHub](http://github.com). Il existe de nombreuses façons d'interagir avec le site (online, interfaces graphiques), et nous allons ici apprendre à utiliser ```git``` en ligne de commande, c'est à dire après un [terminal](https://fr.wikipedia.org/wiki/Interface_en_ligne_de_commande).\n",
    "\n",
    "### GitHub\n",
    "\n",
    "- Créer un compte sur : https://github.com/\n",
    "- Créer un nouveau dépôt (repository)\n",
    "- Ajouter un collaborateur :\n",
    "    - aller dans : *Settings* (en haut a droite),\n",
    "    - aller dans *collaborators* (liste à gauche),\n",
    "    - ajouter le nom du collaborateur voulu, cliquer sur *add collaborator*.\n",
    "\n",
    "\n",
    "### Installation sous Linux\n",
    "\n",
    "        sudo apt-get install git-core gitk\n",
    "\n",
    "### Installation sous MacOs\n",
    "\n",
    "Dans le terminal, taper simplement\n",
    "\n",
    "        git\n",
    "\n",
    "et suivre les instructions pour installer ```git```. \n",
    "\n",
    "### Configuration\n",
    "\n",
    "- Ajouter son nom:\n",
    "\n",
    "        git config --global user.name \"votre_pseudo\"\n",
    "\n",
    "- Ajouter son e-mail:\n",
    "\n",
    "        git config --global user.email moi@email.com\n",
    "\n",
    "- éventuellement on peut créer un fichier contenant vos paramètres de connection à GitHub, pour éviter de les retaper a chaque connexion:\n",
    "\n",
    "        git config --global credential.helper store\n",
    "\n",
    "**ATTENTION :** cette commande vas créer un fichier .git-credentials la première foie que vous vous connecterez contenant votre identifiant et votre mot de passe GitHub en clair.\n",
    "\n",
    "- activer les couleur dans Git, pour une meilleur lisibilité\n",
    "        git config --global color.diff auto\n",
    "        git config --global color.status auto\n",
    "        git config --global color.branch auto\n"
   ]
  },
  {
   "cell_type": "markdown",
   "metadata": {},
   "source": [
    "# Commandes principales de ```git```\n",
    "\n",
    "Les commandes de ```git``` concernent principalement les deux fonctions précisées en préambule: \n",
    "\n",
    "1. gérer un dépôt\n",
    "2. communiquer avec d'autre collaborateurs\n",
    "\n",
    "## gérer un dépôt\n",
    "\n",
    "Un dépôt (*repository*) est un répertoire (dossier) qui va contenir les fichiers que l'on veut gérer. Par exemple:\n",
    "\n",
    "    mkdir depot_test # pour créer le dossier\n",
    "\n",
    "### Créer un nouveau dépôt\n",
    "\n",
    "Si l'on démarre à zero, on peut initialiser le dépôt:\n",
    "\n",
    "    cd depot_test # pour se rendre dans le dossier\n",
    "    git init\n",
    "\n",
    "\n",
    "### Cloner un dépôt\n",
    "\n",
    "on peut aussi cloner un dépôt existant:\n",
    "\n",
    "    git clone https://github.com/chloepasturel/NeuroCompTutos.git\n",
    "\n",
    "qui crée sur le disque local une image du dépôt distant.\n",
    "\n",
    "\n",
    "### Commits\n",
    "\n",
    "Les commits (\"s'engager \") permettent d'enregistrer les changement du code source et le faire savoir à ```git```. Traditionnellement, pour valider un avancement, on ne le fait pas à chaque changement de ligne, mais quand un problème est résolu ou qu'une fonctionnalité est ajoutée.\n",
    "\n",
    "- voir les fichiers récemment modifiés (si en rouge ne sera pas pris en conte lors du commit, en vert oui)    \n",
    "\n",
    "        git status\n",
    "        \n",
    "- voir ce qui a été modifié\n",
    "\n",
    "        git diff\n",
    "\n",
    "- ajouter des fichiers qui seront pris en compte lors d'un commit (ils apparaitront alors en vert dans git status)\n",
    "\n",
    "        git add nomfichier1 nomfichier2\n",
    "\n",
    "- Commit de tout les fichier dans git status\n",
    "\n",
    "        git commit -a\n",
    "\n",
    "- On peut aussi préciser quels fichiers commiter\n",
    "\n",
    "        git commit nomfichier1 nomfichier2\n",
    "\n",
    "Quand un \"commit\" est lancé, un éditeur de texte se lance, il faut alors écrire un message décrivant à quoi servent les changement (si le message est vide, le commit est annulé).\n",
    "\n",
    "- pour voir l'historique des commit (taper Q pour quitter)\n",
    "\n",
    "        git log\n",
    "        \n",
    "- pour avoir le détail des lignes qui ont été ajoutées et retirées dans chaque commit\n",
    "\n",
    "        git log -p\n",
    "\n",
    "- pour avoir un résumé plus court des commits\n",
    "\n",
    "        git log --stat\n",
    "\n",
    "#### Annuler un Commit\n",
    "\n",
    "- Modifier le message du dernier commit (non modifiable si déja transmis a d'autre)\n",
    "\n",
    "        git commit --amend\n",
    "\n",
    "- Annule le dernier commit et revient à l’avant-dernier (seul le commit est retiré de Git, les fichiers restent modifiés)\n",
    "        \n",
    "        git reset HEAD^\n",
    "    - HEAD : dernier commit\n",
    "    - HEAD^ : avant-dernier commit\n",
    "    - HEAD^^ : avant-avant-dernier commit\n",
    "\n",
    "\n",
    "- Annule le dernier commit et les changements effectués dans les fichiers (Annulera sans confirmation)\n",
    "        \n",
    "        git reset --hard HEAD^\n",
    "\n",
    "- Annule les modifications d’un fichier avant un commit (revient comme il était lors du dernier commit.)\n",
    "        \n",
    "        git checkout nomfichier\n",
    "\n",
    "- Annule l'ajout d'un fichier a git avec git add (retire un fichier qui avait été ajouté pour être « commité »)\n",
    "        \n",
    "        git reset HEAD -- fichier_a_supprimer\n",
    "        "
   ]
  },
  {
   "cell_type": "markdown",
   "metadata": {},
   "source": [
    "## communiquer avec d'autre collaborateurs\n",
    "        \n",
    "        \n",
    "Une fois configurée, la communication avec GitHub est aisée: soit on télécharge (\"pull\"), soit on téléverse (\"push\").\n",
    "\n",
    "### Configurer\n",
    "\n",
    "Si on a cloné à partir d'un dépôt existant, la communication est déjà configurée. Par contre si l'on a commencé de zero (avec ```git init```), il faut\n",
    "\n",
    "* créer le dépôt sur GitHub en utilisant la fonction \"Repository / New repository\" en utilisant un nom représentatif comme ```NeuroCompTutos```,\n",
    "\n",
    "* créer le lien entre notre dépôt local (le dossier) et le dépôt distant sur GitHub:\n",
    "\n",
    "        git remote add origin https://github.com/chloepasturel/NeuroCompTutos.git\n",
    "\n",
    "### partager\n",
    "\n",
    "- Envoie les nouvelles modifications (commits) sur GitHub.\n",
    "        \n",
    "        git push\n",
    "\n",
    "Un push est irréversible. Une fois que les commits sont publiés, il deviendra impossible de les supprimer ou de modifier le message de commit ! \n",
    "\n",
    "### Télécharger\n",
    "\n",
    "- Télécharge les modifications effectuées par d'autres personnes (ou soit même par le biais d'un autre ordianateur) sur GitHub:\n",
    "        \n",
    "        git pull\n",
    "        \n",
    "Les changements sont intelligement fusionnés. Si deux même zone du code ont été modifiées, le nom des fichiers en conflit est indiqué. Ouvrez-les avec un éditeur et recherchez une ligne contenant « <<<<<<<<< » et gardez uniquement les changements nécessaires, puis faites un nouveau commit pour les valider.\n",
    "\n",
    "#### Annuler un commit publié\n",
    "\n",
    "Pour annuler un commit publié, il faut en créer un nouveau commit qui effectue l’inverse des modifications. Les lignes qui ont été ajoutées seront supprimées dans ce commit, et inversement.\n",
    "\n",
    "        git revert ID_commit_a_inverser\n",
    "\n",
    "ex ID_commit_a_inverser = 0ca076e\n",
    "\n",
    "\n",
    "\n",
    "\n",
    "Pour aller plus loin, voir :\n",
    " * https://openclassrooms.com/courses/gerez-vos-codes-source-avec-git pour une présentation plus compléte\n",
    " "
   ]
  },
  {
   "cell_type": "markdown",
   "metadata": {},
   "source": [
    "# Exercice\n",
    "\n",
    "\n",
    "    - Créer un nouveau dépôt git sur votre ordinateur dans dossier Test\n",
    "    - Créer un fichier README.md et y écrir 'Bonjour !' et le commiter\n",
    "    - Envoyer ce dépôt sur votre dépôt GitHub du même nom\n",
    "    - Modifier le fichier sur GitHub\n",
    "    - Télécharger le fichier sur votre ordinateur"
   ]
  },
  {
   "cell_type": "markdown",
   "metadata": {},
   "source": [
    "# Solution (sous Linux)\n",
    "\n",
    "**IMPORTANT : avant de lancer la solution sur notebook assurez vous d'avoir exécuté** `git config --global credential.helper store` **et de vous être connecté au moins une foie**, le push vers votre GitHub ne fonctionnera pas sinon\n",
    "\n",
    "**Vous pouvez sinon simplement copier coller les lignes de commande sur votre terminal sans ternir compte de :**\n",
    "\n",
    "            %%bash\n",
    "            cd /tmp ou cd /tmp/Test"
   ]
  },
  {
   "cell_type": "markdown",
   "metadata": {},
   "source": [
    "- Créer un nouveau dépôt git sur votre ordinateur nommé Test"
   ]
  },
  {
   "cell_type": "code",
   "execution_count": 1,
   "metadata": {},
   "outputs": [
    {
     "name": "stdout",
     "output_type": "stream",
     "text": [
      "Initialized empty Git repository in /private/tmp/Test/.git/\n",
      "total 0\n",
      "drwxr-xr-x   3 laurentperrinet  wheel  102 Apr 25 11:55 .\n",
      "drwxrwxrwt  13 root             wheel  442 Apr 25 11:55 ..\n",
      "drwxr-xr-x   9 laurentperrinet  wheel  306 Apr 25 11:55 .git\n"
     ]
    }
   ],
   "source": [
    "%%bash\n",
    "cd /tmp\n",
    "#---------------------------------------\n",
    "\n",
    "# créer un nouveau dossier Test\n",
    "mkdir Test\n",
    "\n",
    "# se placer dans le dossier\n",
    "cd Test\n",
    "\n",
    "# créer un nouveau dépôt git\n",
    "git init\n",
    "ls -al"
   ]
  },
  {
   "cell_type": "markdown",
   "metadata": {},
   "source": [
    "- Créer un fichier README.md et y écrir 'Bonjour !'"
   ]
  },
  {
   "cell_type": "code",
   "execution_count": 2,
   "metadata": {},
   "outputs": [
    {
     "name": "stdout",
     "output_type": "stream",
     "text": [
      "README.md\n"
     ]
    }
   ],
   "source": [
    "%%bash\n",
    "cd /tmp/Test\n",
    "#---------------------------------------\n",
    "echo Bonjour ! > README.md\n",
    "ls"
   ]
  },
  {
   "cell_type": "code",
   "execution_count": 3,
   "metadata": {},
   "outputs": [
    {
     "name": "stdout",
     "output_type": "stream",
     "text": [
      "On branch master\n",
      "\n",
      "Initial commit\n",
      "\n",
      "Untracked files:\n",
      "  (use \"git add <file>...\" to include in what will be committed)\n",
      "\n",
      "\tREADME.md\n",
      "\n",
      "nothing added to commit but untracked files present (use \"git add\" to track)\n"
     ]
    }
   ],
   "source": [
    "%%bash\n",
    "cd /tmp/Test\n",
    "#---------------------------------------\n",
    "\n",
    "# pour voir si il sera commité\n",
    "git status"
   ]
  },
  {
   "cell_type": "code",
   "execution_count": 4,
   "metadata": {},
   "outputs": [
    {
     "name": "stdout",
     "output_type": "stream",
     "text": [
      "On branch master\n",
      "\n",
      "Initial commit\n",
      "\n",
      "Changes to be committed:\n",
      "  (use \"git rm --cached <file>...\" to unstage)\n",
      "\n",
      "\tnew file:   README.md\n",
      "\n"
     ]
    }
   ],
   "source": [
    "%%bash\n",
    "cd /tmp/Test\n",
    "#---------------------------------------\n",
    "\n",
    "# ajout à la liste des fichier a commiter\n",
    "git add README.md\n",
    "git status"
   ]
  },
  {
   "cell_type": "code",
   "execution_count": 5,
   "metadata": {
    "scrolled": true
   },
   "outputs": [
    {
     "name": "stdout",
     "output_type": "stream",
     "text": [
      "[master (root-commit) c3ad597] mon_premier_commit\n",
      " 1 file changed, 1 insertion(+)\n",
      " create mode 100644 README.md\n",
      "commit c3ad5973cfeec80f5662425c129cfa4362a4051f\n",
      "Author: Laurent Perrinet <laurent.perrinet@univ-amu.fr>\n",
      "Date:   Tue Apr 25 11:56:05 2017 +0200\n",
      "\n",
      "    mon_premier_commit\n"
     ]
    }
   ],
   "source": [
    "%%bash\n",
    "cd /tmp/Test\n",
    "#---------------------------------------\n",
    "\n",
    "# Commiter\n",
    "git commit README.md -m mon_premier_commit\n",
    "\n",
    "# voir tout les commit\n",
    "git log"
   ]
  },
  {
   "cell_type": "markdown",
   "metadata": {},
   "source": [
    "- Envoyer ce dépôt sur votre dépôt GitHub du même nom\n",
    "\n",
    "    - Créer votre page GitHub avec un dépôt nommé Test\n",
    "\n",
    "    - sur votre ordinateur\n",
    "            \n",
    "    "
   ]
  },
  {
   "cell_type": "markdown",
   "metadata": {},
   "source": [
    "- Modifier le fichier sur GitHub\n",
    "\n",
    "    - cliquer sur le nom du fichier (README.md)\n",
    "    - cliquer sur le petit crayon en haut à gauche\n",
    "    - changer le fichier\n",
    "    - pour sauvegarder les modifications remplir les descriptions (Commit changes) tout en bas de la page et appuyer sur bouton vert Commit changes\n",
    "\n",
    "\n",
    "- Télécharger le fichier sur votre ordinateur\n",
    "\n",
    "    - sur votre ordinateur :\n",
    "            git pull http://github.com/votre_pseudo_GitHub/Test.git"
   ]
  },
  {
   "cell_type": "code",
   "execution_count": 17,
   "metadata": {
    "scrolled": false
   },
   "outputs": [
    {
     "name": "stdout",
     "output_type": "stream",
     "text": [
      "total 36\n",
      "drwxrwxr-x  3 drone drone 4096 avril 25 10:27 .\n",
      "drwxrwxrwt 13 root  root  4096 avril 25 10:27 ..\n",
      "drwxrwxr-x  8 drone drone 4096 avril 25 10:27 .git\n",
      "-rw-rw-r--  1 drone drone   10 avril 25 10:27 README1.md\n",
      "-rw-rw-r--  1 drone drone   10 avril 25 10:27 README2.md\n",
      "-rw-rw-r--  1 drone drone   10 avril 25 10:27 README.md\n",
      "-rw-rw-r--  1 drone drone 8756 avril 25 10:27 Tutoriel GitHub.ipynb\n",
      "Already up-to-date.\n",
      "La branche master est paramétrée pour suivre la branche distante master depuis https://github.com/chloepasturel/NeuroCompTutos.git.\n"
     ]
    },
    {
     "name": "stderr",
     "output_type": "stream",
     "text": [
      "Depuis http://github.com/chloepasturel/NeuroCompTutos\n",
      " * branch            HEAD       -> FETCH_HEAD\n",
      "To https://github.com/chloepasturel/NeuroCompTutos.git\n",
      "   b246abf..e021c5e  master -> master\n"
     ]
    }
   ],
   "source": [
    "%%bash\n",
    "cd /tmp/Test\n",
    "#---------------------------------------\n",
    "\n",
    "ls -al\n",
    "# ici test pour GitHub  http://github.com/chloepasturel/NeuroCompTutos.git changer par votre identifiant et votre dossier\n",
    "git pull http://github.com/chloepasturel/NeuroCompTutos.git\n",
    "git push --set-upstream https://github.com/chloepasturel/NeuroCompTutos.git master"
   ]
  }
 ],
 "metadata": {
  "kernelspec": {
   "display_name": "Python 3",
   "language": "python",
   "name": "python3"
  },
  "language_info": {
   "codemirror_mode": {
    "name": "ipython",
    "version": 3
   },
   "file_extension": ".py",
   "mimetype": "text/x-python",
   "name": "python",
   "nbconvert_exporter": "python",
   "pygments_lexer": "ipython3",
   "version": "3.6.1"
  }
 },
 "nbformat": 4,
 "nbformat_minor": 2
}
