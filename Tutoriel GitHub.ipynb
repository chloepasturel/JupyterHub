{
 "cells": [
  {
   "cell_type": "markdown",
   "metadata": {},
   "source": [
    "# Présentation\n",
    "\n",
    "voir : https://openclassrooms.com/courses/gerez-vos-codes-source-avec-git pour une présentation plus compléte\n",
    " \n",
    "Git a deux utilités principales :\n",
    "\n",
    "- Suivre l’évolution d’un code source : Il retient les modifications effectuées sur chaque fichier et est capable de revenir en arrière en cas de problème.\n",
    "\n",
    "- Travailler à plusieurs : Si deux personnes modifient un même fichier en même temps, leurs modifications peuvent être fusionnées sans perte d’information.\n",
    "\n",
    "\n",
    "# Installation et Configuration\n",
    "\n",
    "### GitHub\n",
    "\n",
    "- Créer un compte sur : https://github.com/\n",
    "- Créer un nouveau dépôt (repository)\n",
    "- Ajouter un collaborateur :\n",
    "    - aller dans :  Settings (en haut a droite)\n",
    "    - aller dans collaborators (liste à gauche)\n",
    "    - ajouter le nom du collaborateur voulu, cliquer sur add collaborator\n",
    "\n",
    "\n",
    "### Installation sous Linux\n",
    "\n",
    "        sudo apt-get install git-core gitk\n",
    "\n",
    "\n",
    "### Configuration\n",
    "\n",
    "- activer couleur dans Git, pour une meilleur lisibilité\n",
    "        git config --global color.diff auto\n",
    "        git config --global color.status auto\n",
    "        git config --global color.branch auto\n",
    "\n",
    "- Nom\n",
    "        git config --global user.name \"votre_pseudo\"\n",
    "\n",
    "- e-mail\n",
    "        git config --global user.email moi@email.com\n",
    "\n",
    "- fichier contenant vos paramètre de connection à GitHub, pour evité de les retaper a chaque push\n",
    "        git config --global credential.helper store\n",
    "\n",
    "**ATTENTION :** cette commande vas créer un fichier .git-credentials la première foie que vous vous connecterez contenant votre identifiant et votre mot de passe GitHub en claire\n",
    "\n",
    "\n",
    "# Commandes principales\n",
    "\n",
    "### Créer un nouveau dépôt\n",
    "\n",
    "        git init\n",
    "\n",
    "\n",
    "### Cloner un dépôt\n",
    "\n",
    "        git clone http://github.com/adresse_du_git_a_cloner.git\n",
    "\n",
    "\n",
    "### Commits\n",
    "\n",
    "Permet d'enregistrer les changement du code source et le faire savoir à git (pour valider un avancement, ne pas le faire a chaque changement de ligne, mais quand un problème est résolu ou qu'une fonctionnalité est ajoutée)\n",
    "\n",
    "- voir les fichiers récemment modifiés (si en rouge ne sera pas pris en conte lors du commit, en vert oui)    \n",
    "\n",
    "        git status\n",
    "        \n",
    "- voir ce qui a était modifier\n",
    "\n",
    "        git diff\n",
    "\n",
    "- ajouter des fichiers qui seront pris en compte lors d'un commit (ils apparaitront alors en vert dans git status)\n",
    "\n",
    "        git add nomfichier1 nomfichier2\n",
    "\n",
    "- Commit de tout les fichier dans git status\n",
    "\n",
    "        git commit -a\n",
    "\n",
    "- précise quels fichiers commiter\n",
    "\n",
    "        git commit nomfichier1 nomfichier2\n",
    "\n",
    "Quand commit est lancé, un éditeur de texte se lance, écrire un message décrivant à quoi servent les changement, si pas de messages écris le commit est annulé\n",
    "\n",
    "- pour voir l'historique des commit (taper Q pour quitter)\n",
    "\n",
    "        git log\n",
    "        \n",
    "- pour avoir le détail des lignes qui ont été ajoutées et retirées dans chaque commit\n",
    "\n",
    "        git log -p\n",
    "\n",
    "- pour avoir un résumé plus court des commits\n",
    "\n",
    "        git log --stat\n",
    "\n",
    "#### Annuler un Commit\n",
    "\n",
    "- Modifier le message du dernier commit (non modifiable si déja transmis a d'autre)\n",
    "        git commit --amend\n",
    "\n",
    "- Annule le dernier commit et revient à l’avant-dernier (seul le commit est retiré de Git, les fichiers restent modifiés)\n",
    "        git reset HEAD^\n",
    "    - HEAD : dernier commit\n",
    "    - HEAD^ : avant-dernier commit\n",
    "    - HEAD^^ : avant-avant-dernier commit\n",
    "\n",
    "\n",
    "- Annule le dernier commit et les changements effectués dans les fichiers (Annulera sans confirmation)\n",
    "        git reset --hard HEAD^\n",
    "\n",
    "- Annule les modifications d’un fichier avant un commit (revient comme il était lors du dernier commit.)\n",
    "        git checkout nomfichier\n",
    "\n",
    "- Annule l'ajout d'un fichier a git avec git add (retire un fichier qui avait été ajouté pour être « commité »)\n",
    "        git reset HEAD -- fichier_a_supprimer\n",
    "        \n",
    "\n",
    "### Télécharger et partager\n",
    "\n",
    "- Télécharge les modifications effectuées par d'autres personnes sur GitHub.\n",
    "        git pull http://github.com/adresse_du_git.git\n",
    "\n",
    "Les changements sont intelligement fusionnés. Si deux même zone du code ont étaient modifié le nom des fichiers en conflit est indiqué. Ouvrez-les avec un éditeur et recherchez une ligne contenant « <<<<<<<<< » et gardez uniquement les changements nécessaires, puis faites un nouveau commit pour enregistrer.\n",
    "\n",
    "- Envoie les nouvelles modifications (commits) sur GitHub.\n",
    "        git push http://github.com/adresse_du_git.git\n",
    "\n",
    "Un push est irréversible. Une fois que les commits sont publiés, il deviendra impossible de les supprimer ou de modifier le message de commit ! Faire un push qu’une fois par jour.\n",
    "\n",
    "\n",
    "#### Annuler un commit publié\n",
    "\n",
    "Pour annuler un commit publié, il faut en créer un nouveau commit qui effectue l’inverse des modifications. Les lignes qui ont été ajoutées seront supprimées dans ce commit, et inversement.\n",
    "\n",
    "        git revert ID_commit_a_inverser\n",
    "\n",
    "ex ID_commit_a_inverser = 0ca076e\n",
    "\n"
   ]
  },
  {
   "cell_type": "markdown",
   "metadata": {},
   "source": [
    "# Exercice\n",
    "\n",
    "\n",
    "    - Créer un nouveau dépôt git sur votre ordinateur dans dossier Test\n",
    "    - Créer un fichier README.md et y écrir 'Bonjour !' et le commiter\n",
    "    - Envoyer ce dépôt sur votre dépôt GitHub du même nom\n",
    "    - Modifier le fichier sur GitHub\n",
    "    - Télécharger le fichier sur votre ordinateur"
   ]
  },
  {
   "cell_type": "markdown",
   "metadata": {},
   "source": [
    "# Solution (sous Linux)\n",
    "\n",
    "**IMPORTANT : avant de lancer la solution sur notebook assurez vous d'avoir exécuté** `git config --global credential.helper store` **et de vous être connecté au moins une foie**, le push vers votre GitHub ne fonctionnera pas sinon\n",
    "\n",
    "**Vous pouvez sinon simplement copier coller les lignes de commande sur votre terminal sans ternir compte de :**\n",
    "\n",
    "            %%bash\n",
    "            cd /tmp ou cd /tmp/Test"
   ]
  },
  {
   "cell_type": "markdown",
   "metadata": {},
   "source": [
    "- Créer un nouveau dépôt git sur votre ordinateur nommé Test"
   ]
  },
  {
   "cell_type": "code",
   "execution_count": 1,
   "metadata": {},
   "outputs": [
    {
     "name": "stdout",
     "output_type": "stream",
     "text": [
      "Dépôt Git vide initialisé dans /tmp/Test/.git/\n",
      "total 12\n",
      "drwxrwxr-x  3 drone drone 4096 avril 25 10:59 .\n",
      "drwxrwxrwt 13 root  root  4096 avril 25 10:59 ..\n",
      "drwxrwxr-x  7 drone drone 4096 avril 25 10:59 .git\n"
     ]
    }
   ],
   "source": [
    "%%bash\n",
    "cd /tmp\n",
    "#---------------------------------------\n",
    "\n",
    "# créer un nouveau dossier Test\n",
    "mkdir Test\n",
    "\n",
    "# se placer dans le dossier\n",
    "cd Test\n",
    "\n",
    "# créer un nouveau dépôt git\n",
    "git init\n",
    "ls -al"
   ]
  },
  {
   "cell_type": "markdown",
   "metadata": {},
   "source": [
    "- Créer un fichier README.md et y écrir 'Bonjour !'"
   ]
  },
  {
   "cell_type": "code",
   "execution_count": 2,
   "metadata": {},
   "outputs": [
    {
     "name": "stdout",
     "output_type": "stream",
     "text": [
      "README.md\n"
     ]
    }
   ],
   "source": [
    "%%bash\n",
    "cd /tmp/Test\n",
    "#---------------------------------------\n",
    "echo Bonjour ! > README.md\n",
    "ls"
   ]
  },
  {
   "cell_type": "code",
   "execution_count": 3,
   "metadata": {},
   "outputs": [
    {
     "name": "stdout",
     "output_type": "stream",
     "text": [
      "Sur la branche master\n",
      "\n",
      "Validation initiale\n",
      "\n",
      "Fichiers non suivis:\n",
      "  (utilisez \"git add <fichier>...\" pour inclure dans ce qui sera validé)\n",
      "\n",
      "\tREADME.md\n",
      "\n",
      "aucune modification ajoutée à la validation mais des fichiers non suivis sont présents (utilisez \"git add\" pour les suivre)\n"
     ]
    }
   ],
   "source": [
    "%%bash\n",
    "cd /tmp/Test\n",
    "#---------------------------------------\n",
    "\n",
    "# pour voir si il sera commité\n",
    "git status"
   ]
  },
  {
   "cell_type": "code",
   "execution_count": 4,
   "metadata": {},
   "outputs": [
    {
     "name": "stdout",
     "output_type": "stream",
     "text": [
      "Sur la branche master\n",
      "\n",
      "Validation initiale\n",
      "\n",
      "Fichiers non suivis:\n",
      "  (utilisez \"git add <fichier>...\" pour inclure dans ce qui sera validé)\n",
      "\n",
      "\tREADME.md\n",
      "\n",
      "aucune modification ajoutée à la validation mais des fichiers non suivis sont présents (utilisez \"git add\" pour les suivre)\n"
     ]
    },
    {
     "name": "stderr",
     "output_type": "stream",
     "text": [
      "fatal: le chemin 'README2.md' ne correspond à aucun fichier\n"
     ]
    }
   ],
   "source": [
    "%%bash\n",
    "cd /tmp/Test\n",
    "#---------------------------------------\n",
    "\n",
    "# ajout à la liste des fichier a commiter\n",
    "git add README.md\n",
    "git status"
   ]
  },
  {
   "cell_type": "code",
   "execution_count": 14,
   "metadata": {
    "scrolled": true
   },
   "outputs": [
    {
     "name": "stdout",
     "output_type": "stream",
     "text": [
      "[master (commit racine) 3acb84d] mon_premier_commit\n",
      " 1 file changed, 1 insertion(+)\n",
      " create mode 100644 README2.md\n",
      "commit 3acb84db22e15ade7475696c1a855b7b3861ba3f\n",
      "Author: chloepasturel <chloe.pasturel@gmail.com>\n",
      "Date:   Tue Apr 25 10:27:24 2017 +0200\n",
      "\n",
      "    mon_premier_commit\n"
     ]
    }
   ],
   "source": [
    "%%bash\n",
    "cd /tmp/Test\n",
    "#---------------------------------------\n",
    "\n",
    "# Commiter\n",
    "git commit README.md -m mon_premier_commit\n",
    "\n",
    "# voir tout les commit\n",
    "git log"
   ]
  },
  {
   "cell_type": "markdown",
   "metadata": {},
   "source": [
    "- Envoyer ce dépôt sur votre dépôt GitHub du même nom\n",
    "\n",
    "    - Créer votre page GitHub avec un dépôt nommé Test\n",
    "\n",
    "    - sur votre ordinateur\n",
    "            \n",
    "    "
   ]
  },
  {
   "cell_type": "markdown",
   "metadata": {},
   "source": [
    "- Modifier le fichier sur GitHub\n",
    "\n",
    "    - cliquer sur le nom du fichier (README.md)\n",
    "    - cliquer sur le petit crayon en haut à gauche\n",
    "    - changer le fichier\n",
    "    - pour sauvegarder les modifications remplir les descriptions (Commit changes) tout en bas de la page et appuyer sur bouton vert Commit changes\n",
    "\n",
    "\n",
    "- Télécharger le fichier sur votre ordinateur\n",
    "\n",
    "    - sur votre ordinateur :\n",
    "            git pull http://github.com/votre_pseudo_GitHub/Test.git"
   ]
  },
  {
   "cell_type": "code",
   "execution_count": 17,
   "metadata": {
    "scrolled": false
   },
   "outputs": [
    {
     "name": "stdout",
     "output_type": "stream",
     "text": [
      "total 36\n",
      "drwxrwxr-x  3 drone drone 4096 avril 25 10:27 .\n",
      "drwxrwxrwt 13 root  root  4096 avril 25 10:27 ..\n",
      "drwxrwxr-x  8 drone drone 4096 avril 25 10:27 .git\n",
      "-rw-rw-r--  1 drone drone   10 avril 25 10:27 README1.md\n",
      "-rw-rw-r--  1 drone drone   10 avril 25 10:27 README2.md\n",
      "-rw-rw-r--  1 drone drone   10 avril 25 10:27 README.md\n",
      "-rw-rw-r--  1 drone drone 8756 avril 25 10:27 Tutoriel GitHub.ipynb\n",
      "Already up-to-date.\n",
      "La branche master est paramétrée pour suivre la branche distante master depuis https://github.com/chloepasturel/NeuroCompTutos.git.\n"
     ]
    },
    {
     "name": "stderr",
     "output_type": "stream",
     "text": [
      "Depuis http://github.com/chloepasturel/NeuroCompTutos\n",
      " * branch            HEAD       -> FETCH_HEAD\n",
      "To https://github.com/chloepasturel/NeuroCompTutos.git\n",
      "   b246abf..e021c5e  master -> master\n"
     ]
    }
   ],
   "source": [
    "%%bash\n",
    "cd /tmp/Test\n",
    "#---------------------------------------\n",
    "\n",
    "ls -al\n",
    "# ici test pour GitHub  http://github.com/chloepasturel/NeuroCompTutos.git changer par votre identifiant et votre dossier\n",
    "git pull http://github.com/chloepasturel/NeuroCompTutos.git\n",
    "git push --set-upstream https://github.com/chloepasturel/NeuroCompTutos.git master"
   ]
  }
 ],
 "metadata": {
  "kernelspec": {
   "display_name": "Python 3",
   "language": "python",
   "name": "python3"
  },
  "language_info": {
   "codemirror_mode": {
    "name": "ipython",
    "version": 3
   },
   "file_extension": ".py",
   "mimetype": "text/x-python",
   "name": "python",
   "nbconvert_exporter": "python",
   "pygments_lexer": "ipython3",
   "version": "3.5.2"
  }
 },
 "nbformat": 4,
 "nbformat_minor": 2
}
